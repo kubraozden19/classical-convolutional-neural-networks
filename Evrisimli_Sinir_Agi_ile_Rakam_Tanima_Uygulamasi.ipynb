{
  "nbformat": 4,
  "nbformat_minor": 0,
  "metadata": {
    "colab": {
      "provenance": []
    },
    "kernelspec": {
      "name": "python3",
      "display_name": "Python 3"
    },
    "language_info": {
      "name": "python"
    }
  },
  "cells": [
    {
      "cell_type": "code",
      "source": [
        "from google.colab import drive\n",
        "drive.mount('/content/drive')\n"
      ],
      "metadata": {
        "colab": {
          "base_uri": "https://localhost:8080/"
        },
        "id": "yRwJSlijV6Cp",
        "outputId": "0d34489d-f375-4ede-8f2c-82831930baa7"
      },
      "execution_count": 1,
      "outputs": [
        {
          "output_type": "stream",
          "name": "stdout",
          "text": [
            "Mounted at /content/drive\n"
          ]
        }
      ]
    },
    {
      "cell_type": "markdown",
      "source": [
        "Kurulum ve kontrolleri yaptığımız kısım\n"
      ],
      "metadata": {
        "id": "S45D773VXEBG"
      }
    },
    {
      "cell_type": "code",
      "source": [
        "from tensorflow.python.client import device_lib\n",
        "device_lib.list_local_devices()"
      ],
      "metadata": {
        "colab": {
          "base_uri": "https://localhost:8080/"
        },
        "id": "O5cp8iK_WfYy",
        "outputId": "8712b988-f4f2-400a-ed52-126f34c2932c"
      },
      "execution_count": 2,
      "outputs": [
        {
          "output_type": "execute_result",
          "data": {
            "text/plain": [
              "[name: \"/device:CPU:0\"\n",
              " device_type: \"CPU\"\n",
              " memory_limit: 268435456\n",
              " locality {\n",
              " }\n",
              " incarnation: 17133448454763016573\n",
              " xla_global_id: -1]"
            ]
          },
          "metadata": {},
          "execution_count": 2
        }
      ]
    },
    {
      "cell_type": "code",
      "source": [
        "!ls drive\n"
      ],
      "metadata": {
        "colab": {
          "base_uri": "https://localhost:8080/"
        },
        "id": "DkGuV0kjXDhd",
        "outputId": "0fd5db87-7c3c-42e5-fca4-556fd2d5964e"
      },
      "execution_count": 3,
      "outputs": [
        {
          "output_type": "stream",
          "name": "stdout",
          "text": [
            "MyDrive\n"
          ]
        }
      ]
    },
    {
      "cell_type": "code",
      "source": [
        "import os\n",
        "os.chdir(\"/content/drive/MyDrive/Udemy_DerinOgrenmeyeGiris/Evrisimli_Sinir_Aglari\")\n",
        "!pwd\n"
      ],
      "metadata": {
        "colab": {
          "base_uri": "https://localhost:8080/"
        },
        "id": "nzo0gkrRXdGh",
        "outputId": "5eeca9d7-7271-44f4-b81d-cc3e7e807a50"
      },
      "execution_count": 4,
      "outputs": [
        {
          "output_type": "stream",
          "name": "stdout",
          "text": [
            "/content/drive/MyDrive/Udemy_DerinOgrenmeyeGiris/Evrisimli_Sinir_Aglari\n"
          ]
        }
      ]
    },
    {
      "cell_type": "code",
      "source": [
        "!ls\n"
      ],
      "metadata": {
        "colab": {
          "base_uri": "https://localhost:8080/"
        },
        "id": "pXd8hCz2Xu41",
        "outputId": "d53b597e-ad52-4ef4-b25f-f15e76d81843"
      },
      "execution_count": 5,
      "outputs": [
        {
          "output_type": "stream",
          "name": "stdout",
          "text": [
            " Artistik_Stil_Transferi\t    javierbardem.png\t    rakamtanima_cnn.py\n",
            " Duygu_Tanima\t\t\t   'kemal sunal.png'\t    README.md\n",
            " EvrisimliSinirAgi_AdimAdim.ipynb   ksgrafik.png\t    YOLO_ile_Nesne_Yeri_Tespiti\n",
            " evrisimlisiniragi_adimadim.py\t    nesneler.PNG\t    yolo.PNG\n",
            " Fashion_MNIST.ipynb\t\t    Nesne_Tanima\n",
            " fashion_mnist.py\t\t    RakamTanima_CNN.ipynb\n"
          ]
        }
      ]
    },
    {
      "cell_type": "code",
      "source": [
        "!pip install -q keras"
      ],
      "metadata": {
        "id": "V8OzAwuZYS8X"
      },
      "execution_count": 6,
      "outputs": []
    },
    {
      "cell_type": "markdown",
      "source": [
        "Uygulamayı Kodlamaya Başlayalım\n",
        "\n",
        "\n"
      ],
      "metadata": {
        "id": "X_1twYHSYbvW"
      }
    },
    {
      "cell_type": "code",
      "source": [
        "from __future__ import print_function\n",
        "import keras\n",
        "import tensorflow\n",
        "from keras.datasets import mnist\n",
        "from keras.models import load_model\n",
        "from keras.models import Sequential\n",
        "from keras.layers import Dense, Dropout, Flatten\n",
        "from keras.layers import Conv2D, MaxPooling2D\n",
        "#from keras.utils import to_categorical\n",
        "from tensorflow.keras.utils import to_categorical\n",
        "from tensorflow.keras import optimizers\n",
        "from keras import backend as K\n",
        "\n",
        "import matplotlib.pyplot as plt\n",
        "import numpy as np\n"
      ],
      "metadata": {
        "id": "w9cQIDP6YXm1"
      },
      "execution_count": 7,
      "outputs": []
    },
    {
      "cell_type": "code",
      "source": [
        "\n",
        "!pip install -q keras\n",
        "!pip install -q tensorflow\n",
        "\n",
        "!pip install keras.utils"
      ],
      "metadata": {
        "colab": {
          "base_uri": "https://localhost:8080/"
        },
        "id": "966CI-98wBtR",
        "outputId": "3ada718c-666c-4333-dbd6-b19a2bc59107"
      },
      "execution_count": 8,
      "outputs": [
        {
          "output_type": "stream",
          "name": "stdout",
          "text": [
            "Collecting keras.utils\n",
            "  Downloading keras-utils-1.0.13.tar.gz (2.4 kB)\n",
            "  Preparing metadata (setup.py) ... \u001b[?25l\u001b[?25hdone\n",
            "Requirement already satisfied: Keras>=2.1.5 in /usr/local/lib/python3.10/dist-packages (from keras.utils) (2.14.0)\n",
            "Building wheels for collected packages: keras.utils\n",
            "  Building wheel for keras.utils (setup.py) ... \u001b[?25l\u001b[?25hdone\n",
            "  Created wheel for keras.utils: filename=keras_utils-1.0.13-py3-none-any.whl size=2632 sha256=7466030b1c23ad0a075ff38a103b5b785a5cfd9ff60d25d154bb495cd4622f5f\n",
            "  Stored in directory: /root/.cache/pip/wheels/5c/c0/b3/0c332de4fd71f3733ea6d61697464b7ae4b2b5ff0300e6ca7a\n",
            "Successfully built keras.utils\n",
            "Installing collected packages: keras.utils\n",
            "Successfully installed keras.utils-1.0.13\n"
          ]
        }
      ]
    },
    {
      "cell_type": "code",
      "source": [
        "# Veriyi rastgele bir şekilde eğitim ve test olarak ayırabiliriz\n",
        "(x_train, y_train), (x_test, y_test) = mnist.load_data()"
      ],
      "metadata": {
        "colab": {
          "base_uri": "https://localhost:8080/"
        },
        "id": "QLj7M-PkZfun",
        "outputId": "a8c9a586-9c25-489b-b8d6-5a6dd9396726"
      },
      "execution_count": 9,
      "outputs": [
        {
          "output_type": "stream",
          "name": "stdout",
          "text": [
            "Downloading data from https://storage.googleapis.com/tensorflow/tf-keras-datasets/mnist.npz\n",
            "11490434/11490434 [==============================] - 0s 0us/step\n"
          ]
        }
      ]
    },
    {
      "cell_type": "code",
      "source": [
        "# Görüntüleri görselleştirelim\n",
        "plt.figure(figsize = (14,14))\n",
        "x, y = 10, 4\n",
        "\n",
        "for i in range(40):\n",
        "    plt.subplot(x, y, i+1)\n",
        "    plt.imshow(x_train[i], cmap='gray')\n",
        "plt.show()"
      ],
      "metadata": {
        "colab": {
          "base_uri": "https://localhost:8080/",
          "height": 1000
        },
        "id": "ram2Xa34Z4zh",
        "outputId": "cfe1db32-7ea1-4daa-bfef-112850086ad8"
      },
      "execution_count": 10,
      "outputs": [
        {
          "output_type": "display_data",
          "data": {
            "text/plain": [
              "<Figure size 1400x1400 with 40 Axes>"
            ],
            "image/png": "[encoded data removed]"
          },
          "metadata": {}
        }
      ]
    },
    {
      "cell_type": "code",
      "source": [
        "# batch_size : buna bir alt paket diyebiliriz. Her iterasyonda veri seti içerisinde tamamını eğitmiyor. Veri seti içerisinde paketleri paket paket eğitiyor.\n",
        "# her bir kümenin, paketin içerisinde kaç tane kümenin olacağını, boyutunu giriyoruz\n",
        "\n",
        "batch_size = 128\n",
        "num_classes = 10     # 0-9 kadar sayılar var\n",
        "epochs = 5         # eğitim 5 epoch da gerçekleşsin diyoruz çok uzun sürmemesi adına\n",
        "\n",
        "img_rows, img_cols = 28, 28\n",
        "\n",
        "if K.image_data_format() == 'channels_first':\n",
        "    x_train = x_train.reshape(x_train.shape[0], 1, img_rows, img_cols)\n",
        "    x_test = x_test.reshape(x_test.shape[0], 1, img_rows, img_cols)\n",
        "    input_shape = (1, img_rows, img_cols)\n",
        "else:\n",
        "    x_train = x_train.reshape(x_train.shape[0], img_rows, img_cols, 1)\n",
        "    x_test = x_test.reshape(x_test.shape[0], img_rows, img_cols, 1)\n",
        "    input_shape = (img_rows, img_cols, 1)"
      ],
      "metadata": {
        "id": "ps9U_2eObh4v"
      },
      "execution_count": 11,
      "outputs": []
    },
    {
      "cell_type": "code",
      "source": [
        "x_train.shape[0]"
      ],
      "metadata": {
        "colab": {
          "base_uri": "https://localhost:8080/"
        },
        "id": "ylVKfwj6aI2L",
        "outputId": "c43365d0-e069-4399-ec0c-08f9021d43e3"
      },
      "execution_count": 12,
      "outputs": [
        {
          "output_type": "execute_result",
          "data": {
            "text/plain": [
              "60000"
            ]
          },
          "metadata": {},
          "execution_count": 12
        }
      ]
    },
    {
      "cell_type": "markdown",
      "source": [
        "`x_train = x.train.reshape(x_tarin.shape[0], 1, img_rows, img_cols, 1)` kodu, eğitim verilerini (`x_train`) yeniden şekillendirmek için kullanılmaktadır. Yeniden şekillendirme, verilerin boyutunu ve biçimini değiştirmek anlamına gelir. Bu durumda, eğitim verileri 5 boyutlu bir numpy dizisi haline getirilmektedir.\n",
        "\n",
        "* İlk boyut, örnek sayısını temsil eder (`x_tarin.shape[0]`).\n",
        "* İkinci boyut, kanal sayısını temsil eder. Bu durumda, gri tonlamalı görüntüler kullandığımız için kanal sayısı 1'dir.\n",
        "* Sonraki üç boyut, görüntü satır sayısını, görüntü sütun sayısını ve görüntü derinliğini temsil eder (`img_rows`, `img_cols` ve `1`).\n",
        "\n",
        "Yeniden şekillendirme, derin öğrenme modellerinde yaygın olarak kullanılmaktadır. Bunun nedeni, derin öğrenme modellerinin genellikle 4 veya 5 boyutlu girdi verilerini beklemesidir. Bu nedenle, eğitim verilerimizi modele beslemeden önce yeniden şekillendirmemiz gerekir.\n",
        "\n",
        "Aşağıdaki örnek, `x_train` verilerinin yeniden şekillendirilmesini göstermektedir:\n",
        "\n",
        "---\n",
        "` input_shape = (img_rows, img_cols, 1) ` kodu, derin öğrenme modelinin giriş şeklini tanımlamak için kullanılmaktadır. Giriş şekli, modelin beklediği veri boyutunu ve biçimini temsil eder. Bu durumda, model gri tonlamalı görüntüler beklemektedir. Görüntüler `img_rows` satır ve `img_cols` sütuna sahip olacak ve her piksel tek bir kanal (1) değerine sahip olacaktır.\n",
        "\n",
        "input_shape argümanı, genellikle modelin ilk katmanına aktarılır. Bu, modelin ilk katmanının verileri beklenen şekilde işlemesini sağlar."
      ],
      "metadata": {
        "id": "cnjosnQVl6-F"
      }
    },
    {
      "cell_type": "code",
      "source": [
        " #hatalı one-hot-encoding\n",
        "y_train = tensorflow.keras.utils.to_categorical(y_train, num_classes)\n",
        "y_test = tensorflow.keras.utils.to_categorical(y_test, num_classes)"
      ],
      "metadata": {
        "id": "tSWQFSDdmhlk"
      },
      "execution_count": 93,
      "outputs": []
    },
    {
      "cell_type": "code",
      "source": [
        "print(\"Giriş verilerinin şekli:\", x_train.shape)\n",
        "print(\"Sınıf etiketlerinin şekli:\", y_train.shape)"
      ],
      "metadata": {
        "id": "t6g1-w5u_Qr5"
      },
      "execution_count": null,
      "outputs": []
    },
    {
      "cell_type": "markdown",
      "source": [
        "Giriş verilerinin şekli (60000, 28, 28, 1) olarak görünüyor ve bu, her biri 28x28 piksel boyutunda gri tonlamalı bir görüntü içeren 60000 örneği temsil eder.\n",
        "\n",
        "Ancak sınıf etiketlerinin şekli (60000, 10, 10, 10) olarak görünüyor ve bu şekil beklenen bir one-hot encoding yapılandırması değil. Sınıf etiketleri (y_train) her bir örnek için 10 sınıfın olasılık dağılımını içermesi gereken bir matris olmalıdır.\n",
        "\n",
        "Sorun, sınıf etiketlerinin yanlış bir şekilde yapılandırılmış olabileceğini gösteriyor. One-hot encoding kullanıyorsanız, sınıf etiketleri her bir örneğin her sınıf için bir olasılık değeri içeren bir matris olmalıdır. Örneğin, her sınıf için bir sütun olmalıdır ve her sınıfın olasılık değeri 0 ile 1 arasında olmalıdır.\n",
        "\n",
        "Sınıf etiketlerinin düzeltilmesi gerekebilir. Eğer sınıf etiketleriniz one-hot encoding ile kodlanmışsa, sınıf etiketlerinin doğru bir şekilde oluşturulması gerekmektedir. İşte örnek bir düzeltme adımı:"
      ],
      "metadata": {
        "id": "qcr8Awwv_FJb"
      }
    },
    {
      "cell_type": "code",
      "source": [
        "from keras.utils import to_categorical\n",
        "\n",
        "# Sınıf etiketlerini one-hot encoding ile kodlayın\n",
        "y_train = to_categorical(y_train, num_classes)\n",
        "y_test = to_categorical(y_test, num_classes)\n"
      ],
      "metadata": {
        "id": "kCwTdBBK5g10"
      },
      "execution_count": 13,
      "outputs": []
    },
    {
      "cell_type": "code",
      "source": [
        "print(\"Giriş verilerinin şekli:\", x_train.shape)\n",
        "print(\"Sınıf etiketlerinin şekli:\", y_train.shape)\n"
      ],
      "metadata": {
        "colab": {
          "base_uri": "https://localhost:8080/"
        },
        "id": "mdvhwvuM4pKD",
        "outputId": "55ded433-950b-47c6-d903-bcbef6172deb"
      },
      "execution_count": 19,
      "outputs": [
        {
          "output_type": "stream",
          "name": "stdout",
          "text": [
            "Giriş verilerinin şekli: (60000, 28, 28, 1)\n",
            "Sınıf etiketlerinin şekli: (60000, 10)\n"
          ]
        }
      ]
    },
    {
      "cell_type": "markdown",
      "source": [
        "Bu kod, sınıf etiketlerini one-hot encoding ile kodlamak için Keras kütüphanesinin `to_categorical` işlevini kullanır. One-hot encoding, çoklu sınıf sınıflandırma problemlerinde sınıf etiketlerini daha anlamlı ve işlem yapılabilir bir biçimde temsil etmeye yarar. Özellikle sınıflar arasındaki ilişkiyi tanımlamak için kullanılır.\n",
        "\n",
        "İşte bu kod parçasının açıklaması:\n",
        "\n",
        "1. `from keras.utils import to_categorical`: Keras kütüphanesinin `to_categorical` işlevini kullanabilmek için gereken işlevi içe aktarır.\n",
        "\n",
        "2. `y_train = to_categorical(y_train, num_classes)`: Eğitim veri kümesindeki sınıf etiketlerini one-hot encoding ile kodlar. `y_train` sınıf etiketlerini içeren veriyi temsil eder. `num_classes`, toplam sınıf sayısını temsil eder ve her bir sınıf için bir sütun içeren bir matris elde etmek için kullanılır. Örneğin, eğer `num_classes` 10 ise, her örnek için 10 sütun içeren bir matris oluşturulur ve her bir sütun, bir sınıfı temsil eder. Sadece doğru sınıf 1, diğer sınıflar ise 0 ile kodlanır.\n",
        "\n",
        "3. `y_test = to_categorical(y_test, num_classes)`: Test veri kümesindeki sınıf etiketlerini aynı şekilde one-hot encoding ile kodlar. Bu, eğitim ve test veri kümesi arasında uyumlu sınıf etiketleri oluşturmanıza yardımcı olur.\n",
        "\n",
        "Sonuç olarak, bu işlem sınıf etiketlerini daha işlenebilir bir biçime dönüştürür ve modelin çoklu sınıf sınıflandırma görevini daha etkili bir şekilde gerçekleştirmesine olanak tanır."
      ],
      "metadata": {
        "id": "imOmMzU2oGJA"
      }
    },
    {
      "cell_type": "markdown",
      "source": [
        "# Model Oluşturma\n"
      ],
      "metadata": {
        "id": "duqcWOcBoRIY"
      }
    },
    {
      "cell_type": "code",
      "source": [
        "model = Sequential()  #"
      ],
      "metadata": {
        "id": "itXHHeUwoNqQ"
      },
      "execution_count": 14,
      "outputs": []
    },
    {
      "cell_type": "markdown",
      "source": [
        "Bu satır, bir Keras modeli oluşturmak için kullanılır. `Sequential()` fonksiyonu, sıralı bir model oluşturmanıza izin verir. Sıralı bir model, katmanları ardışık olarak eklediğiniz bir yapılı modele işaret eder. Bu tip model, sıralı işlemler için uygundur, özellikle giriş verisini aldıktan sonra birçok katmandan geçirilen derin öğrenme modellerinde yaygın olarak kullanılır.\n",
        "\n",
        "Örnek bir kullanım:\n",
        "\n",
        "```python\n",
        "from keras.models import Sequential\n",
        "\n",
        "model = Sequential()\n",
        "```\n",
        "\n",
        "Bu kod parçası, boş bir sıralı model oluşturur. Ardından, bu modele katmanlar eklenerek bir derin öğrenme modeli oluşturabilirsiniz. Örneğin, evrişimli sinir ağı (Convolutional Neural Network - CNN) veya tam bağlantılı bir sinir ağı (Fully Connected Neural Network) gibi farklı katmanları ekleyerek modelinizi tanımlayabilirsiniz.\n",
        "\n",
        "Modelinizi tanımladıktan sonra, modelin derinliğini, katmanlarını ve parametrelerini eklemeye devam edebilir ve sonunda modelinizi derlemek ve eğitmek için kullanabilirsiniz."
      ],
      "metadata": {
        "id": "VQ4X2bPJoy7n"
      }
    },
    {
      "cell_type": "markdown",
      "source": [
        "**Katmanların Oluşturulması**\n"
      ],
      "metadata": {
        "id": "2KtTXNGrofT_"
      }
    },
    {
      "cell_type": "code",
      "source": [
        "model.add(Conv2D(32, kernel_size=(3,3),\n",
        "                 activation = 'relu',\n",
        "                 input_shape = input_shape))\n",
        "\n",
        "model.add(Conv2D(64, (3,3),\n",
        "                 activation = 'relu'))\n",
        "model.add(MaxPooling2D(pool_size=(2,2)))\n",
        "\n",
        "model.add(Dropout(0,25))\n",
        "\n",
        "model.add(Flatten())\n",
        "\n",
        "model.add(Dense(128, activation = 'relu'))\n",
        "\n",
        "model.add(Dropout(0.50))\n",
        "\n",
        "model.add(Dense(num_classes, activation = 'softmax'))\n"
      ],
      "metadata": {
        "id": "MMMB99rcodZw"
      },
      "execution_count": 15,
      "outputs": []
    },
    {
      "cell_type": "markdown",
      "source": [
        "Bu kod örnekleri, bir evrişimli sinir ağı (Convolutional Neural Network - CNN) modelini tanımlamak için kullanılır. İşte bu kod parçalarının ne yaptığının açıklamaları:\n",
        "\n",
        "1. `model.add(Conv2D(32, kernel_size=(3,3), activation='relu', input_shape=input_shape))`: İlk olarak, 2D evrişimli katman (Convolutional Layer) eklenir. Bu katman, 32 filtre (kernel) kullanır ve her bir filtre 3x3 boyutunda bir çekirdek ile veriyi işler. 'relu' aktivasyon fonksiyonu kullanılır ve 'input_shape' parametresi, giriş verisi şeklini belirtir.\n",
        "\n",
        "2. `model.add(Conv2D(64, (3,3), activation='relu'))`: İkinci bir 2D evrişimli katman eklenir. Bu katman, 64 filtre kullanır ve yine her bir filtre 3x3 boyutunda bir çekirdek ile veriyi işler. 'relu' aktivasyon fonksiyonu kullanılır.\n",
        "\n",
        "3. `model.add(MaxPooling2D(pool_size=(2,2))`: Max pooling katmanı eklenir. Bu, evrişimli katmanlar arasında kullanılır ve veriyi küçültmek ve önemli özellikleri çıkarmak için kullanılır. Burada 2x2 boyutunda bir havuzlama penceresi kullanılır.\n",
        "\n",
        "4. `model.add(Dropout(0.25))`: Dropout katmanı eklenir. Dropout, aşırı uyum (overfitting) problemini azaltmak için kullanılır. Bu katman, %25 oranında rastgele nöronları devre dışı bırakır.\n",
        "\n",
        "5. `model.add(Flatten())`: Flatten katmanı, 2D veriyi düz bir vektöre dönüştürür, böylece tam bağlantılı (fully connected) katmanlara giriş yapabilir.\n",
        "\n",
        "6. `model.add(Dense(128, activation='relu')`: Tam bağlantılı bir gizli katman (dense layer) eklenir. 128 nörona sahiptir ve 'relu' aktivasyon fonksiyonu kullanır.\n",
        "\n",
        "7. `model.add(Dropout(0.50))`: Bir başka Dropout katmanı eklenir, bu sefer %50 oranında nöronları devre dışı bırakır.\n",
        "\n",
        "8. `model.add(Dense(num_classes, activation='softmax')`: Çıkış katmanı eklenir. Bu, modelin sınıf tahminlerini üreteceği yerdir. 'num_classes' sınıf sayısına eşittir ve 'softmax' aktivasyon fonksiyonu kullanılır.\n",
        "\n",
        "Bu kod parçaları, evrişimli sinir ağı modelini tanımlar. Daha sonra bu model derlenir (compile edilir) ve verilerle eğitilir. Model, sınıf tahminleri yapmak için kullanılabilir."
      ],
      "metadata": {
        "id": "al3wyNtwrC_5"
      }
    },
    {
      "cell_type": "markdown",
      "source": [
        "**Model Görselleştirme**\n",
        "\n"
      ],
      "metadata": {
        "id": "fHBu7QhHrt1a"
      }
    },
    {
      "cell_type": "code",
      "source": [
        "model.summary()   # Param : katmanlarda öğrenilen parametre sayısı\n",
        "                  # ortaklama (pooling) katmanlarında öğrenme işlemi olmaz"
      ],
      "metadata": {
        "colab": {
          "base_uri": "https://localhost:8080/"
        },
        "id": "dxAMm-IqrEHX",
        "outputId": "cad7e386-accc-4619-da46-0ea21a7fe793"
      },
      "execution_count": 16,
      "outputs": [
        {
          "output_type": "stream",
          "name": "stdout",
          "text": [
            "Model: \"sequential\"\n",
            "_________________________________________________________________\n",
            " Layer (type)                Output Shape              Param #   \n",
            "=================================================================\n",
            " conv2d (Conv2D)             (None, 26, 26, 32)        320       \n",
            "                                                                 \n",
            " conv2d_1 (Conv2D)           (None, 24, 24, 64)        18496     \n",
            "                                                                 \n",
            " max_pooling2d (MaxPooling2  (None, 12, 12, 64)        0         \n",
            " D)                                                              \n",
            "                                                                 \n",
            " dropout (Dropout)           (None, 12, 12, 64)        0         \n",
            "                                                                 \n",
            " flatten (Flatten)           (None, 9216)              0         \n",
            "                                                                 \n",
            " dense (Dense)               (None, 128)               1179776   \n",
            "                                                                 \n",
            " dropout_1 (Dropout)         (None, 128)               0         \n",
            "                                                                 \n",
            " dense_1 (Dense)             (None, 10)                1290      \n",
            "                                                                 \n",
            "=================================================================\n",
            "Total params: 1199882 (4.58 MB)\n",
            "Trainable params: 1199882 (4.58 MB)\n",
            "Non-trainable params: 0 (0.00 Byte)\n",
            "_________________________________________________________________\n"
          ]
        }
      ]
    },
    {
      "cell_type": "code",
      "source": [
        "from keras.src.engine.base_layer import TensorFlowOpLayer\n",
        "model.compile(loss = keras.losses.categorical_crossentropy,\n",
        "              optimizer = tensorflow.keras.optimizers.Adadelta(),\n",
        "              metrics = ['accuracy'])"
      ],
      "metadata": {
        "id": "qSVbjOyOtgA1"
      },
      "execution_count": 17,
      "outputs": []
    },
    {
      "cell_type": "code",
      "source": [
        "model.compile(loss = keras.losses.categorical_crossentropy,\n",
        "             optimizer = tensorflow.keras.optimizers.Adadelta(),\n",
        "             metrics = ['accuracy'])"
      ],
      "metadata": {
        "id": "eEjNUObFzBJ1"
      },
      "execution_count": 75,
      "outputs": []
    },
    {
      "cell_type": "markdown",
      "source": [
        "Bu kod parçası, bir Keras modelini derlemek için kullanılır. Derleme işlemi, modelin eğitim için nasıl yapılandırılacağını belirler. İşte bu kodun ayrıntıları:\n",
        "\n",
        "- `loss = keras.losses.categorical_crossentropy`: Bu, modelin kayıp (loss) fonksiyonunu belirtir. 'categorical_crossentropy', çoklu sınıf sınıflandırma problemleri için yaygın olarak kullanılan bir kayıp fonksiyonudur. Modelin tahminlerinin gerçek etiketlerle ne kadar uyumlu olduğunu ölçer.\n",
        "\n",
        "- `optimizer = tensorflow.keras.optimizers.Adadelta()`: Bu, eğitim sırasında kullanılacak optimizasyon algoritmasını belirtir. 'Adadelta', bir optimizasyon algoritmasıdır ve ağırlıkları güncellemek için kullanılır. Keras, birçok farklı optimizasyon algoritmasını destekler ve bu algoritmayı seçerek modelin nasıl eğitileceğini belirlersiniz.\n",
        "\n",
        "- `metrics = ['accuracy']`: Bu, eğitim sırasında izlenecek metrikleri belirtir. 'accuracy', modelin eğitim sırasında doğruluk oranını (accuracy) hesaplamak için kullanılacak bir metriktir. Bu, modelin sınıf tahminlerinin ne kadar doğru olduğunu izlemeye yardımcı olur.\n",
        "\n",
        "Derleme işlemi, modelin eğitimi için gerekli olan temel ayarları yapar. Daha sonra model, bu ayarlarla uyumlu bir şekilde eğitilir ve eğitim sırasında belirtilen kayıp fonksiyonu ve metrikler kullanılarak performansı izlenir."
      ],
      "metadata": {
        "id": "6chw5CWit0LW"
      }
    },
    {
      "cell_type": "markdown",
      "source": [
        "**Eğitim**"
      ],
      "metadata": {
        "id": "daBZcvwgtXCz"
      }
    },
    {
      "cell_type": "code",
      "source": [
        "model.fit(x_train, y_train,\n",
        "          batch_size=batch_size,\n",
        "          epochs=epochs,\n",
        "          verbose=1,\n",
        "          validation_data=(x_test, y_test))"
      ],
      "metadata": {
        "colab": {
          "base_uri": "https://localhost:8080/"
        },
        "id": "LCOVBgGPr4iW",
        "outputId": "99f7b5e6-f474-4d50-a7a3-88d408f0c2a4"
      },
      "execution_count": 18,
      "outputs": [
        {
          "output_type": "stream",
          "name": "stdout",
          "text": [
            "Epoch 1/5\n",
            "469/469 [==============================] - 144s 306ms/step - loss: 14.9812 - accuracy: 0.2259 - val_loss: 2.6044 - val_accuracy: 0.5741\n",
            "Epoch 2/5\n",
            "469/469 [==============================] - 142s 302ms/step - loss: 5.1792 - accuracy: 0.4177 - val_loss: 1.3141 - val_accuracy: 0.7014\n",
            "Epoch 3/5\n",
            "469/469 [==============================] - 136s 290ms/step - loss: 2.5756 - accuracy: 0.5174 - val_loss: 0.9217 - val_accuracy: 0.7390\n",
            "Epoch 4/5\n",
            "469/469 [==============================] - 142s 303ms/step - loss: 1.7358 - accuracy: 0.5569 - val_loss: 0.8079 - val_accuracy: 0.7632\n",
            "Epoch 5/5\n",
            "469/469 [==============================] - 139s 297ms/step - loss: 1.4266 - accuracy: 0.5886 - val_loss: 0.7380 - val_accuracy: 0.7809\n"
          ]
        },
        {
          "output_type": "execute_result",
          "data": {
            "text/plain": [
              "<keras.src.callbacks.History at 0x7bb5c8c24e50>"
            ]
          },
          "metadata": {},
          "execution_count": 18
        }
      ]
    },
    {
      "cell_type": "code",
      "source": [
        "# modelimizi 5 epoch için çalıştırdık ve bir başarım sonucu elde ettik, elde ettiğimiz başarım sonucunu .h5 dosyası olarak kaydedebiliriz\n",
        "#Kaydettiğimiz zaman benzer veri veri ile h5 dosyamızı çağırarak direk ( eğitim yapmadan ) test yapabiliriz çünkü daha önce eğitilmiş bir model olduğu için\n",
        "model.save('/mnist_model.h5')\n"
      ],
      "metadata": {
        "colab": {
          "base_uri": "https://localhost:8080/"
        },
        "id": "plzN_coJ9ioj",
        "outputId": "66a43e94-f87b-4f08-b392-fd011348665c"
      },
      "execution_count": 21,
      "outputs": [
        {
          "output_type": "stream",
          "name": "stderr",
          "text": [
            "/usr/local/lib/python3.10/dist-packages/keras/src/engine/training.py:3079: UserWarning: You are saving your model as an HDF5 file via `model.save()`. This file format is considered legacy. We recommend using instead the native Keras format, e.g. `model.save('my_model.keras')`.\n",
            "  saving_api.save_model(\n"
          ]
        }
      ]
    },
    {
      "cell_type": "code",
      "source": [
        "score = model.evaluate(x_test, y_test, verbose = 0)\n",
        "print('Test Loss :', score[0])\n",
        "print('Test Accuracy :', score[1])"
      ],
      "metadata": {
        "colab": {
          "base_uri": "https://localhost:8080/"
        },
        "id": "igLDRLun_pbG",
        "outputId": "2e1a2329-5da7-4e2b-c42c-18d0679d9c1c"
      },
      "execution_count": 24,
      "outputs": [
        {
          "output_type": "stream",
          "name": "stdout",
          "text": [
            "Test Loss : 0.7380313277244568\n",
            "Test Accuracy : 0.7809000015258789\n"
          ]
        }
      ]
    },
    {
      "cell_type": "markdown",
      "source": [
        "Bu kod, eğitilmiş bir modelin test verileri üzerindeki performansını değerlendirmek için kullanılır. İşte bu kodun açıklaması:\n",
        "\n",
        "1. `score = model.evaluate(x_test, y_test, verbose=0)`: `model.evaluate` işlemi, modelin test verileri (x_test) üzerindeki performansını değerlendirir. `x_test`, test verilerini temsil ederken, `y_test` ise test verilerinin doğru sınıf etiketlerini içerir. Bu işlem, modelin test verileri üzerindeki kaybını ve doğruluk (accuracy) skorunu hesaplar. `verbose` argümanı, işlemin çıktı düzeyini belirler. 0 olarak ayarlandığında, herhangi bir çıktı görüntülenmez.\n",
        "\n",
        "2. `print('Test Loss:', score[0])`: Bu satır, test verileri üzerindeki kaybı ekrana yazdırır. `score[0]`, kaybı temsil eder. Daha düşük kayıp, modelin test verileri üzerinde daha iyi bir performans gösterdiğini gösterir.\n",
        "\n",
        "3. `print('Test Accuracy:', score[1])`: Bu satır, test verileri üzerindeki doğruluk (accuracy) skorunu ekrana yazdırır. `score[1]`, doğruluk skorunu temsil eder. Doğruluk skoru, modelin doğru sınıflandırma yüzdesini ifade eder. Daha yüksek bir doğruluk skoru, modelin daha iyi performans gösterdiğini gösterir.\n",
        "\n",
        "Bu kod, eğitilmiş bir modelin test verileri üzerinde ne kadar iyi performans gösterdiğini değerlendirmek için yaygın olarak kullanılır. Modelin doğruluk ve kayıp değerleri, modelin performansını anlamak için kullanılır."
      ],
      "metadata": {
        "id": "ovyHvZNdADib"
      }
    },
    {
      "cell_type": "markdown",
      "source": [
        "`verbose` argümanı, `model.evaluate` işleminin sırasında çıktı düzeyini kontrol eder. `verbose` değerine göre işlemin nasıl bir çıktı üreteceğini belirler. İşte `verbose` argümanının farklı değerlerinin ne anlama geldiği:\n",
        "\n",
        "- `verbose=0`: Hiçbir çıktı üretilmez. Modelin test sonuçları sessizce hesaplanır ve döndürülür. Bu seçenek, otomasyon veya script çalışmaları için uygundur, çünkü ekstra çıktılar göstermez ve işlem daha sessiz olur.\n",
        "\n",
        "- `verbose=1`: İlerleme çubuğu (progress bar) ile birlikte sonuçlar gösterilir. Test işlemi başladığında ve tamamlandığında, ekranda ilerleme çubuğu ile ilerlemenizi takip edebilirsiniz. Sonuçlar (örneğin, test kaybı ve doğruluk) işlem tamamlandığında görüntülenir. Bu seçenek, işlemin ne kadar süreceğini ve ne zaman tamamlandığını görmek istediğinizde kullanışlıdır.\n",
        "\n",
        "- `verbose=2`: Her bir test örneğinin sonucu (örneğin, her bir örneğin kaybı ve doğruluğu) ayrıntılı olarak ekrana yazdırılır. Bu, her bir örneğin sonucunu görmek istediğinizde kullanışlıdır, ancak büyük veri kümesi üzerinde çalışırken ekranı çok fazla doldurabilir.\n",
        "\n",
        "Genellikle, hangi `verbose` seçeneğinin kullanılacağı işlemi izleme ihtiyacınıza bağlıdır. Verbose olmayan (0) seçenek otomasyon ve script çalışmaları için uygunken, diğer seçenekler işlemi takip etmek ve sonuçları görmek için kullanışlıdır."
      ],
      "metadata": {
        "id": "GGWDg_WvA1cs"
      }
    },
    {
      "cell_type": "markdown",
      "source": [
        "**Rastgele değer için test işlemi**"
      ],
      "metadata": {
        "id": "BJZ-NoycBRLs"
      }
    },
    {
      "cell_type": "code",
      "source": [
        "model_test = model.save('/mnist_model.h5')"
      ],
      "metadata": {
        "colab": {
          "base_uri": "https://localhost:8080/"
        },
        "id": "1T6jag-KBQQi",
        "outputId": "6c316257-e9e4-4459-c61f-dfb11d98d6f9"
      },
      "execution_count": 25,
      "outputs": [
        {
          "output_type": "stream",
          "name": "stderr",
          "text": [
            "/usr/local/lib/python3.10/dist-packages/keras/src/engine/training.py:3079: UserWarning: You are saving your model as an HDF5 file via `model.save()`. This file format is considered legacy. We recommend using instead the native Keras format, e.g. `model.save('my_model.keras')`.\n",
            "  saving_api.save_model(\n"
          ]
        }
      ]
    },
    {
      "cell_type": "code",
      "source": [
        "test_image = x_test[32]\n",
        "y_test[32]"
      ],
      "metadata": {
        "colab": {
          "base_uri": "https://localhost:8080/"
        },
        "id": "MJ88ucq2B-g-",
        "outputId": "2ac395c4-3996-4045-d260-a3a158b3a782"
      },
      "execution_count": 30,
      "outputs": [
        {
          "output_type": "execute_result",
          "data": {
            "text/plain": [
              "array([0., 0., 0., 1., 0., 0., 0., 0., 0., 0.], dtype=float32)"
            ]
          },
          "metadata": {},
          "execution_count": 30
        }
      ]
    },
    {
      "cell_type": "code",
      "source": [
        "plt.imshow(test_image.reshape(28,28), cmap='gray', vmin=2, vmax=255)"
      ],
      "metadata": {
        "colab": {
          "base_uri": "https://localhost:8080/",
          "height": 448
        },
        "id": "zI4pCbpLCI2b",
        "outputId": "928e3668-aa59-445a-a452-792220b3006d"
      },
      "execution_count": 31,
      "outputs": [
        {
          "output_type": "execute_result",
          "data": {
            "text/plain": [
              "<matplotlib.image.AxesImage at 0x7bb5b9a3dbd0>"
            ]
          },
          "metadata": {},
          "execution_count": 31
        },
        {
          "output_type": "display_data",
          "data": {
            "text/plain": [
              "<Figure size 640x480 with 1 Axes>"
            ],
            "image/png": "[encoded data removed]"
          },
          "metadata": {}
        }
      ]
    },
    {
      "cell_type": "markdown",
      "source": [
        "Bu kod parçası, bir eğitilmiş Keras modelini kaydeder ve daha sonra bu modeli kullanarak test verileri üzerinde tahminlerde bulunur. İşte bu kodun adım adım açıklaması:\n",
        "\n",
        "1. `model.save('/mnist_model.h5')`: Eğitilmiş modelin `mnist_model.h5` adlı bir dosyaya kaydedilmesini sağlar. Modeli kaydetmek, modelin ağırlıklarını, yapılandırmasını ve eğitim durumunu bir dosyada saklar. Bu, daha sonra modelin yeniden yüklenmesi ve kullanılması için gereklidir.\n",
        "\n",
        "2. `test_image = x_test[32]`: Test veri kümesinden 32. örneği `test_image` değişkenine atar. Bu, modelin bu belirli görüntüyü sınıflandırma yeteneğini test etmek için kullanılacak bir örnek görüntüdür.\n",
        "\n",
        "3. `y_test[32]`: Test veri kümesindeki 32. örneğin doğru sınıf etiketini (sınıf numarasını) görüntüler. Bu, modelin bu örneği doğru bir şekilde sınıflandırıp sınıflandırmadığını kontrol etmek için kullanılacaktır.\n",
        "\n",
        "4. `plt.imshow(test_image.reshape(28, 28), cmap='gray', vmin=2, vmax=255)`: `matplotlib` kütüphanesini kullanarak, `test_image` değişkenindeki görüntüyü görsel olarak görüntüler. `cmap='gray'` ile görüntünün gri tonlamalı olduğunu belirtir. `vmin` ve `vmax` ile görüntünün renk aralığını sınırlar.\n",
        "\n",
        "Bu kod, eğitilmiş modeli kaydedip daha sonra test verileri üzerinde nasıl kullanacağınızı gösterir. Bu işlem, modelin başka veriler üzerinde nasıl kullanılacağını anlamak için önemlidir. Ayrıca, bu modelin belirli bir görüntüyü sınıflandırma yeteneğini görsel olarak kontrol etmenizi sağlar."
      ],
      "metadata": {
        "id": "czdq1WSYCztZ"
      }
    }
  ]
}